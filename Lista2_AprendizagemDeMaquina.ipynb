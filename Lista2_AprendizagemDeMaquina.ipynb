{
  "nbformat": 4,
  "nbformat_minor": 0,
  "metadata": {
    "colab": {
      "provenance": [],
      "authorship_tag": "ABX9TyMRB0mxfL+If2Gel47eC8mk",
      "include_colab_link": true
    },
    "kernelspec": {
      "name": "python3",
      "display_name": "Python 3"
    },
    "language_info": {
      "name": "python"
    }
  },
  "cells": [
    {
      "cell_type": "markdown",
      "metadata": {
        "id": "view-in-github",
        "colab_type": "text"
      },
      "source": [
        "<a href=\"https://colab.research.google.com/github/CaioPassos3/AprendizagemDeMaquina/blob/main/Lista2_AprendizagemDeMaquina.ipynb\" target=\"_parent\"><img src=\"https://colab.research.google.com/assets/colab-badge.svg\" alt=\"Open In Colab\"/></a>"
      ]
    },
    {
      "cell_type": "code",
      "execution_count": 11,
      "metadata": {
        "id": "8B8p6VnHsbIA"
      },
      "outputs": [],
      "source": [
        "import pandas as pd\n",
        "import numpy as np\n",
        "from sklearn.model_selection import cross_val_score, StratifiedKFold\n",
        "from sklearn.linear_model import SGDClassifier\n",
        "from sklearn.discriminant_analysis import LinearDiscriminantAnalysis\n",
        "from sklearn.naive_bayes import GaussianNB\n",
        "from sklearn.pipeline import make_pipeline\n",
        "from sklearn.preprocessing import StandardScaler\n",
        "from sklearn.metrics import accuracy_score, recall_score, classification_report\n",
        "from sklearn.linear_model import LogisticRegression\n",
        "from sklearn.discriminant_analysis import QuadraticDiscriminantAnalysis"
      ]
    },
    {
      "cell_type": "markdown",
      "source": [
        "Questão 1\n",
        "\n",
        "Considere o conjunto de dados disponível em breastcancer.csv, organizado\n",
        "em 31 colunas, sendo as 30 primeiras colunas os atributos e a última coluna a\n",
        "saída. Os 30 atributos coletados de exames médicos são usados no diagnóstico\n",
        "do câncer de mama, sendo 1 a classe positiva e 0 a classe negativa. Maiores\n",
        "detalhes sobre os dados podem ser conferidos em https://scikit-learn.org/\n",
        "stable/datasets/toy_dataset.html#breast-cancer-dataset"
      ],
      "metadata": {
        "id": "7EOV8ak5s0Sd"
      }
    },
    {
      "cell_type": "markdown",
      "source": [
        "a) Considerando uma validação cruzada em 10 folds, avalie modelos de classificação\n",
        "binária nos dados em questão. Para tanto, use as abordagens\n",
        "abaixo:\n",
        "\n",
        "– Regressão logística (treinado com GD ou SGD);\n",
        "\n",
        "– Análise do discriminante Gaussiano;\n",
        "\n",
        "– Naive Bayes Gaussiano;"
      ],
      "metadata": {
        "id": "advwutavs5vc"
      }
    },
    {
      "cell_type": "code",
      "source": [
        "df = pd.read_csv(\"breastcancer.csv\")\n",
        "\n",
        "# Separarando atributos e rótulos\n",
        "X = df.iloc[:, :-1].values\n",
        "y = df.iloc[:, -1].values\n",
        "\n",
        "# Validando cruzada com 10 folds\n",
        "cv = StratifiedKFold(n_splits=10, shuffle=True, random_state=42)\n",
        "\n",
        "# Modelos com pipeline (normalização + classificador)\n",
        "modelos = {\n",
        "    \"Regressão Logística (SGD)\": make_pipeline(StandardScaler(), SGDClassifier(loss='log_loss', max_iter=1000, tol=1e-3, random_state=42)),\n",
        "    \"Análise do Discriminante Gaussiano (LDA)\": make_pipeline(StandardScaler(), LinearDiscriminantAnalysis()),\n",
        "    \"Naive Bayes Gaussiano\": make_pipeline(StandardScaler(), GaussianNB())\n",
        "}\n",
        "\n",
        "# Avaliando e imprimindo resultados\n",
        "for nome, modelo in modelos.items():\n",
        "    scores = cross_val_score(modelo, X, y, cv=cv, scoring='accuracy')\n",
        "    print(f\"\\n{nome}\")\n",
        "    print(f\"Acurácias por fold: {np.round(scores, 4)}\")\n",
        "    print(f\"Média da acurácia: {scores.mean():.4f}\")\n",
        "    print(f\"Desvio padrão: {scores.std():.4f}\")"
      ],
      "metadata": {
        "colab": {
          "base_uri": "https://localhost:8080/"
        },
        "id": "vPUgpnrgskmV",
        "outputId": "e397aeaf-1a67-4d3e-b868-5989b9f92334"
      },
      "execution_count": 2,
      "outputs": [
        {
          "output_type": "stream",
          "name": "stdout",
          "text": [
            "\n",
            "Regressão Logística (SGD)\n",
            "Acurácias por fold: [0.9474 0.9649 0.9825 0.9825 0.9474 1.     0.9649 0.9298 0.9464 1.    ]\n",
            "Média da acurácia: 0.9666\n",
            "Desvio padrão: 0.0229\n",
            "\n",
            "Análise do Discriminante Gaussiano (LDA)\n",
            "Acurácias por fold: [0.9825 0.9474 0.9649 0.9474 0.9649 0.9825 0.9649 0.9298 0.9107 0.9643]\n",
            "Média da acurácia: 0.9559\n",
            "Desvio padrão: 0.0214\n",
            "\n",
            "Naive Bayes Gaussiano\n",
            "Acurácias por fold: [0.9474 0.9474 0.9474 0.9474 0.9474 0.9825 0.9123 0.8421 0.8929 0.9821]\n",
            "Média da acurácia: 0.9349\n",
            "Desvio padrão: 0.0402\n"
          ]
        }
      ]
    },
    {
      "cell_type": "markdown",
      "source": [
        "b) Para cada modelo criado, reporte valor médio e desvio padrão da acurácia\n",
        "global e da acurácia por classe."
      ],
      "metadata": {
        "id": "APNKUqxrtYQ_"
      }
    },
    {
      "cell_type": "code",
      "source": [
        "df = pd.read_csv(\"breastcancer.csv\")\n",
        "\n",
        "# Separando atributos e rótulos\n",
        "X = df.iloc[:, :-1].values\n",
        "y = df.iloc[:, -1].values\n",
        "\n",
        "# Validando cruzada com 10 folds\n",
        "cv = StratifiedKFold(n_splits=10, shuffle=True, random_state=42)\n",
        "\n",
        "# Modelos com pipeline\n",
        "modelos = {\n",
        "    \"Regressão Logística (SGD)\": make_pipeline(StandardScaler(), SGDClassifier(loss='log_loss', max_iter=1000, tol=1e-3, random_state=42)),\n",
        "    \"Análise do Discriminante Gaussiano (LDA)\": make_pipeline(StandardScaler(), LinearDiscriminantAnalysis()),\n",
        "    \"Naive Bayes Gaussiano\": make_pipeline(StandardScaler(), GaussianNB())\n",
        "}\n",
        "\n",
        "# Avaliação detalhada\n",
        "resultados = {}\n",
        "\n",
        "for nome, modelo in modelos.items():\n",
        "    accs = []\n",
        "    class_acc_0 = []\n",
        "    class_acc_1 = []\n",
        "\n",
        "    for train_idx, test_idx in cv.split(X, y):\n",
        "        X_train, X_test = X[train_idx], X[test_idx]\n",
        "        y_train, y_test = y[train_idx], y[test_idx]\n",
        "\n",
        "        modelo.fit(X_train, y_train)\n",
        "        y_pred = modelo.predict(X_test)\n",
        "\n",
        "        accs.append(accuracy_score(y_test, y_pred))\n",
        "\n",
        "        # Acurácia por classe\n",
        "        recall_0 = recall_score(y_test, y_pred, pos_label=0)\n",
        "        recall_1 = recall_score(y_test, y_pred, pos_label=1)\n",
        "        class_acc_0.append(recall_0)\n",
        "        class_acc_1.append(recall_1)\n",
        "\n",
        "    resultados[nome] = {\n",
        "        \"Acurácia Global Média\": np.mean(accs),\n",
        "        \"Desvio Padrão Global\": np.std(accs),\n",
        "        \"Acurácia Classe 0 Média\": np.mean(class_acc_0),\n",
        "        \"Desvio Padrão Classe 0\": np.std(class_acc_0),\n",
        "        \"Acurácia Classe 1 Média\": np.mean(class_acc_1),\n",
        "        \"Desvio Padrão Classe 1\": np.std(class_acc_1)\n",
        "    }\n",
        "\n",
        "resultados"
      ],
      "metadata": {
        "colab": {
          "base_uri": "https://localhost:8080/"
        },
        "id": "NksiRerYujdp",
        "outputId": "89cc9d26-7402-4a8f-e6b7-e8389eae0f8f"
      },
      "execution_count": 7,
      "outputs": [
        {
          "output_type": "execute_result",
          "data": {
            "text/plain": [
              "{'Regressão Logística (SGD)': {'Acurácia Global Média': np.float64(0.9665726817042607),\n",
              "  'Desvio Padrão Global': np.float64(0.022888141855148977),\n",
              "  'Acurácia Classe 0 Média': np.float64(0.9692063492063492),\n",
              "  'Desvio Padrão Classe 0': np.float64(0.031672136218575835),\n",
              "  'Acurácia Classe 1 Média': np.float64(0.9621212121212122),\n",
              "  'Desvio Padrão Classe 1': np.float64(0.035582861954055404)},\n",
              " 'Análise do Discriminante Gaussiano (LDA)': {'Acurácia Global Média': np.float64(0.9559210526315789),\n",
              "  'Desvio Padrão Global': np.float64(0.021428227913528535),\n",
              "  'Acurácia Classe 0 Média': np.float64(0.9944444444444445),\n",
              "  'Desvio Padrão Classe 0': np.float64(0.011111111111111117),\n",
              "  'Acurácia Classe 1 Média': np.float64(0.8906926406926405),\n",
              "  'Desvio Padrão Classe 1': np.float64(0.05678467368980479)},\n",
              " 'Naive Bayes Gaussiano': {'Acurácia Global Média': np.float64(0.9348684210526315),\n",
              "  'Desvio Padrão Global': np.float64(0.04020058377309513),\n",
              "  'Acurácia Classe 0 Média': np.float64(0.9554761904761904),\n",
              "  'Desvio Padrão Classe 0': np.float64(0.048405476952950055),\n",
              "  'Acurácia Classe 1 Média': np.float64(0.9006493506493506),\n",
              "  'Desvio Padrão Classe 1': np.float64(0.05767860163493343)}}"
            ]
          },
          "metadata": {},
          "execution_count": 7
        }
      ]
    },
    {
      "cell_type": "markdown",
      "source": [
        "Questão 2\n",
        "\n",
        "Considere o conjunto de dados disponível em vehicle.csv, organizado em 19 colunas,\n",
        "sendo as 18 primeiras colunas os atributos e a última coluna a saída. Os 18\n",
        "atributos caracterizam a silhueta de veículos, extraídos pelo método HIPS (Hierarchical\n",
        "Image Processing System). A tarefa consiste em classificar o veículo\n",
        "em 4 classes (bus, opel, saab, e van). Maiores detalhes sobre os dados podem\n",
        "ser conferidos em https://www.openml.org/search?type=data&sort=runs&\n",
        "id=54."
      ],
      "metadata": {
        "id": "qX6kwoOyuwfH"
      }
    },
    {
      "cell_type": "markdown",
      "source": [
        "a) Considerando uma validação cruzada em 10 folds, avalie modelos de classificação\n",
        "multiclasse nos dados em questão. Para tanto, use as abordagens\n",
        "abaixo:\n",
        "\n",
        "– Regressão softmax (treinado com GD ou SGD);\n",
        "\n",
        "– Análise do discriminante Gaussiano;\n",
        "\n",
        "– Naive Bayes Gaussiano;"
      ],
      "metadata": {
        "id": "e4a166CAu1x2"
      }
    },
    {
      "cell_type": "code",
      "source": [
        "data = pd.read_csv(\"vehicle.csv\")\n",
        "\n",
        "# Separando atributos e rótulos\n",
        "X = data.iloc[:, :-1].values\n",
        "y = data.iloc[:, -1].values\n",
        "\n",
        "# Criando 10-fold cross-validation\n",
        "cv = StratifiedKFold(n_splits=10, shuffle=True, random_state=42)\n",
        "\n",
        "# Regressão Softmax (Logistic Regression multinomial, automático)\n",
        "softmax_model = make_pipeline(StandardScaler(),\n",
        "                              LogisticRegression(solver='saga', max_iter=5000, random_state=42))\n",
        "softmax_scores = cross_val_score(softmax_model, X, y, cv=cv, scoring='accuracy')\n",
        "print(f'Regressão Softmax - Acurácia média: {np.mean(softmax_scores):.4f} (+/- {np.std(softmax_scores):.4f})')\n",
        "\n",
        "# Análise Discriminante Gaussiano (QDA)\n",
        "gda_model = QuadraticDiscriminantAnalysis()\n",
        "gda_scores = cross_val_score(gda_model, X, y, cv=cv, scoring='accuracy')\n",
        "print(f'Análise Discriminante Gaussiano - Acurácia média: {np.mean(gda_scores):.4f} (+/- {np.std(gda_scores):.4f})')\n",
        "\n",
        "# Naive Bayes Gaussiano\n",
        "nb_model = GaussianNB()\n",
        "nb_scores = cross_val_score(nb_model, X, y, cv=cv, scoring='accuracy')\n",
        "print(f'Naive Bayes Gaussiano - Acurácia média: {np.mean(nb_scores):.4f} (+/- {np.std(nb_scores):.4f})')"
      ],
      "metadata": {
        "colab": {
          "base_uri": "https://localhost:8080/"
        },
        "id": "i_9JOAClvBcA",
        "outputId": "25baf1e5-31a0-4fce-9667-2d6875e97bae"
      },
      "execution_count": 10,
      "outputs": [
        {
          "output_type": "stream",
          "name": "stdout",
          "text": [
            "Regressão Softmax - Acurácia média: 0.7965 (+/- 0.0366)\n",
            "Análise Discriminante Gaussiano - Acurácia média: 0.8557 (+/- 0.0427)\n",
            "Naive Bayes Gaussiano - Acurácia média: 0.4508 (+/- 0.0468)\n"
          ]
        }
      ]
    },
    {
      "cell_type": "markdown",
      "source": [
        "b) Para cada modelo criado, reporte valor médio e desvio padrão da acurácia\n",
        "global e da acurácia por classe."
      ],
      "metadata": {
        "id": "JjzncpsaxkjF"
      }
    },
    {
      "cell_type": "code",
      "source": [
        "data = pd.read_csv(\"vehicle.csv\")\n",
        "X = data.iloc[:, :-1].values\n",
        "y = data.iloc[:, -1].values\n",
        "\n",
        "# Configurando validação cruzada\n",
        "cv = StratifiedKFold(n_splits=10, shuffle=True, random_state=42)\n",
        "\n",
        "# Lista de modelos\n",
        "models = {\n",
        "    'Regressão Softmax': make_pipeline(StandardScaler(), LogisticRegression(solver='saga', max_iter=5000, random_state=42)),\n",
        "    'Análise Discriminante Gaussiano': QuadraticDiscriminantAnalysis(),\n",
        "    'Naive Bayes Gaussiano': GaussianNB()\n",
        "}\n",
        "\n",
        "# Armazenando resultados\n",
        "results = {}\n",
        "\n",
        "for name, model in models.items():\n",
        "    accuracies = []\n",
        "    fold_reports = []\n",
        "\n",
        "    for train_idx, test_idx in cv.split(X, y):\n",
        "        X_train, X_test = X[train_idx], X[test_idx]\n",
        "        y_train, y_test = y[train_idx], y[test_idx]\n",
        "        model.fit(X_train, y_train)\n",
        "        y_pred = model.predict(X_test)\n",
        "\n",
        "        # Acurácia global\n",
        "        acc = accuracy_score(y_test, y_pred)\n",
        "        accuracies.append(acc)\n",
        "\n",
        "        # Reporte por classe\n",
        "        report = classification_report(y_test, y_pred, output_dict=True, zero_division=0)\n",
        "        fold_reports.append(report)\n",
        "\n",
        "    # Calculando média/desvio global\n",
        "    mean_acc = np.mean(accuracies)\n",
        "    std_acc = np.std(accuracies)\n",
        "\n",
        "    # Calculando média/desvio por classe\n",
        "    classes = sorted(list(set(y)))\n",
        "    class_means = {}\n",
        "    class_stds = {}\n",
        "\n",
        "    for cls in classes:\n",
        "        cls_str = str(cls)  # Garantir que a chave seja string\n",
        "        cls_accs = [fold_report[cls_str]['precision'] for fold_report in fold_reports if cls_str in fold_report]\n",
        "        class_means[cls] = np.mean(cls_accs)\n",
        "        class_stds[cls] = np.std(cls_accs)\n",
        "\n",
        "    # Guardando resultados\n",
        "    results[name] = {\n",
        "        'mean_acc': mean_acc,\n",
        "        'std_acc': std_acc,\n",
        "        'class_means': class_means,\n",
        "        'class_stds': class_stds\n",
        "    }\n",
        "\n",
        "# Exibindo resultados\n",
        "for name, res in results.items():\n",
        "    print(f'\\n{name}')\n",
        "    print(f'  Acurácia global média: {res[\"mean_acc\"]:.4f}')\n",
        "    print(f'  Acurácia global desvio padrão: {res[\"std_acc\"]:.4f}')\n",
        "    print('  Acurácia por classe (precisão média):')\n",
        "    for cls in res['class_means']:\n",
        "        print(f'    {cls} - média: {res[\"class_means\"][cls]:.4f}, desvio: {res[\"class_stds\"][cls]:.4f}')"
      ],
      "metadata": {
        "colab": {
          "base_uri": "https://localhost:8080/"
        },
        "id": "u-k5EfxvxnVf",
        "outputId": "a875f842-e4c8-45d3-bb46-8baff2be0683"
      },
      "execution_count": 13,
      "outputs": [
        {
          "output_type": "stream",
          "name": "stdout",
          "text": [
            "\n",
            "Regressão Softmax\n",
            "  Acurácia global média: 0.7965\n",
            "  Acurácia global desvio padrão: 0.0366\n",
            "  Acurácia por classe (precisão média):\n",
            "    0.0 - média: 0.9124, desvio: 0.0725\n",
            "    1.0 - média: 0.6829, desvio: 0.0952\n",
            "    2.0 - média: 0.6705, desvio: 0.0544\n",
            "    3.0 - média: 0.9278, desvio: 0.0597\n",
            "\n",
            "Análise Discriminante Gaussiano\n",
            "  Acurácia global média: 0.8557\n",
            "  Acurácia global desvio padrão: 0.0427\n",
            "  Acurácia por classe (precisão média):\n",
            "    0.0 - média: 0.9865, desvio: 0.0206\n",
            "    1.0 - média: 0.7453, desvio: 0.0762\n",
            "    2.0 - média: 0.7765, desvio: 0.0839\n",
            "    3.0 - média: 0.9101, desvio: 0.0569\n",
            "\n",
            "Naive Bayes Gaussiano\n",
            "  Acurácia global média: 0.4508\n",
            "  Acurácia global desvio padrão: 0.0468\n",
            "  Acurácia por classe (precisão média):\n",
            "    0.0 - média: 0.6683, desvio: 0.2819\n",
            "    1.0 - média: 0.4959, desvio: 0.1445\n",
            "    2.0 - média: 0.5017, desvio: 0.0898\n",
            "    3.0 - média: 0.3981, desvio: 0.0336\n"
          ]
        }
      ]
    }
  ]
}